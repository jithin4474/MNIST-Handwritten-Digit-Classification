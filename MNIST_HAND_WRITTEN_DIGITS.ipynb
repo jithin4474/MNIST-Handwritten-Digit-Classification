{
  "nbformat": 4,
  "nbformat_minor": 0,
  "metadata": {
    "colab": {
      "name": "MNIST HAND WRITTEN DIGITS.ipynb",
      "provenance": []
    },
    "kernelspec": {
      "name": "python3",
      "display_name": "Python 3"
    },
    "language_info": {
      "name": "python"
    }
  },
  "cells": [
    {
      "cell_type": "markdown",
      "metadata": {
        "id": "LQhO2w30i4Vx"
      },
      "source": [
        "We Will be using CNN and ANN to predict Handwritten digits in this notebook\n"
      ]
    },
    {
      "cell_type": "code",
      "metadata": {
        "id": "40gxXPho13GM"
      },
      "source": [
        "import tensorflow as tf\n",
        "from tensorflow import keras\n",
        "import matplotlib.pyplot as plt\n",
        "%matplotlib inline\n",
        "import numpy as np"
      ],
      "execution_count": 1,
      "outputs": []
    },
    {
      "cell_type": "code",
      "metadata": {
        "id": "reItv7LC2IoP"
      },
      "source": [
        "(x_train,y_train),(x_test,y_test)=keras.datasets.mnist.load_data()"
      ],
      "execution_count": 2,
      "outputs": []
    },
    {
      "cell_type": "code",
      "metadata": {
        "colab": {
          "base_uri": "https://localhost:8080/"
        },
        "id": "TKOTwFMr2ZnU",
        "outputId": "adec0941-7a00-41db-b9c8-36ccfa2990cc"
      },
      "source": [
        "len(x_train)\n"
      ],
      "execution_count": 3,
      "outputs": [
        {
          "output_type": "execute_result",
          "data": {
            "text/plain": [
              "60000"
            ]
          },
          "metadata": {
            "tags": []
          },
          "execution_count": 3
        }
      ]
    },
    {
      "cell_type": "code",
      "metadata": {
        "id": "ml5rfLhb2smm"
      },
      "source": [
        "len(x_test)\n",
        "x_train=x_train/255\n",
        "x_test=x_test/255"
      ],
      "execution_count": 4,
      "outputs": []
    },
    {
      "cell_type": "code",
      "metadata": {
        "colab": {
          "base_uri": "https://localhost:8080/",
          "height": 292
        },
        "id": "y-WsfYJj2xYI",
        "outputId": "6ee7acc9-4c70-4124-8ed2-374147c915b6"
      },
      "source": [
        "plt.matshow(x_train[1])"
      ],
      "execution_count": 5,
      "outputs": [
        {
          "output_type": "execute_result",
          "data": {
            "text/plain": [
              "<matplotlib.image.AxesImage at 0x7f9a9c951110>"
            ]
          },
          "metadata": {
            "tags": []
          },
          "execution_count": 5
        },
        {
          "output_type": "display_data",
          "data": {
            "image/png": "[encoded data removed]",
            "text/plain": [
              "<Figure size 288x288 with 1 Axes>"
            ]
          },
          "metadata": {
            "tags": [],
            "needs_background": "light"
          }
        }
      ]
    },
    {
      "cell_type": "code",
      "metadata": {
        "id": "TK07YLdm29qp"
      },
      "source": [
        "x_train_flat=x_train.reshape(len(x_train),28*28)\n",
        "x_test_flat=x_test.reshape(len(x_test),28*28)"
      ],
      "execution_count": 6,
      "outputs": []
    },
    {
      "cell_type": "markdown",
      "metadata": {
        "id": "SLENwybAjQrB"
      },
      "source": [
        "Using a ANN with one layer\n"
      ]
    },
    {
      "cell_type": "code",
      "metadata": {
        "colab": {
          "base_uri": "https://localhost:8080/"
        },
        "id": "EshHR3OV37FL",
        "outputId": "1f83a1d9-07ac-4b68-b079-cc0a9b217996"
      },
      "source": [
        "model=keras.Sequential([\n",
        "    keras.layers.Dense(10, input_shape=(784,),activation='sigmoid')\n",
        "])\n",
        "model.compile(\n",
        "    optimizer='adam',\n",
        "    loss='sparse_categorical_crossentropy',\n",
        "    metrics=['accuracy']\n",
        "    )\n",
        "\n",
        "model.fit(x_train_flat,y_train,epochs=5)"
      ],
      "execution_count": 7,
      "outputs": [
        {
          "output_type": "stream",
          "text": [
            "Epoch 1/5\n",
            "1875/1875 [==============================] - 3s 1ms/step - loss: 0.4704 - accuracy: 0.8773\n",
            "Epoch 2/5\n",
            "1875/1875 [==============================] - 2s 1ms/step - loss: 0.3039 - accuracy: 0.9156\n",
            "Epoch 3/5\n",
            "1875/1875 [==============================] - 2s 1ms/step - loss: 0.2831 - accuracy: 0.9208\n",
            "Epoch 4/5\n",
            "1875/1875 [==============================] - 2s 1ms/step - loss: 0.2736 - accuracy: 0.9232\n",
            "Epoch 5/5\n",
            "1875/1875 [==============================] - 2s 1ms/step - loss: 0.2666 - accuracy: 0.9252\n"
          ],
          "name": "stdout"
        },
        {
          "output_type": "execute_result",
          "data": {
            "text/plain": [
              "<tensorflow.python.keras.callbacks.History at 0x7f9a9d21b250>"
            ]
          },
          "metadata": {
            "tags": []
          },
          "execution_count": 7
        }
      ]
    },
    {
      "cell_type": "code",
      "metadata": {
        "colab": {
          "base_uri": "https://localhost:8080/"
        },
        "id": "2oOLS9r453h5",
        "outputId": "f4251826-221e-4160-9778-9671fb6f18c0"
      },
      "source": [
        "model.evaluate(x_test_flat,y_test)\n"
      ],
      "execution_count": 8,
      "outputs": [
        {
          "output_type": "stream",
          "text": [
            "313/313 [==============================] - 0s 923us/step - loss: 0.2706 - accuracy: 0.9240\n"
          ],
          "name": "stdout"
        },
        {
          "output_type": "execute_result",
          "data": {
            "text/plain": [
              "[0.27056702971458435, 0.9240000247955322]"
            ]
          },
          "metadata": {
            "tags": []
          },
          "execution_count": 8
        }
      ]
    },
    {
      "cell_type": "code",
      "metadata": {
        "colab": {
          "base_uri": "https://localhost:8080/",
          "height": 292
        },
        "id": "tH5Otv9U9Js7",
        "outputId": "5d5549e0-c3bb-4fa0-ded1-1b8972f3fc17"
      },
      "source": [
        "plt.matshow(x_test[1])"
      ],
      "execution_count": 9,
      "outputs": [
        {
          "output_type": "execute_result",
          "data": {
            "text/plain": [
              "<matplotlib.image.AxesImage at 0x7f9a96498a50>"
            ]
          },
          "metadata": {
            "tags": []
          },
          "execution_count": 9
        },
        {
          "output_type": "display_data",
          "data": {
            "image/png": "[encoded data removed]",
            "text/plain": [
              "<Figure size 288x288 with 1 Axes>"
            ]
          },
          "metadata": {
            "tags": [],
            "needs_background": "light"
          }
        }
      ]
    },
    {
      "cell_type": "code",
      "metadata": {
        "id": "y49T1KLc9eeM"
      },
      "source": [
        "y_predict=model.predict(x_test_flat)"
      ],
      "execution_count": 10,
      "outputs": []
    },
    {
      "cell_type": "code",
      "metadata": {
        "id": "EIeFCTDF9mjo"
      },
      "source": [
        "y_predict_labels=[np.argmax(i) for i in y_predict]\n"
      ],
      "execution_count": 11,
      "outputs": []
    },
    {
      "cell_type": "code",
      "metadata": {
        "colab": {
          "base_uri": "https://localhost:8080/"
        },
        "id": "Ir-7_LyS-KCN",
        "outputId": "3ff8b1f2-55c9-46f7-a84d-addd237be88d"
      },
      "source": [
        "tf.math.confusion_matrix(labels=y_test,predictions=y_predict_labels)"
      ],
      "execution_count": 12,
      "outputs": [
        {
          "output_type": "execute_result",
          "data": {
            "text/plain": [
              "<tf.Tensor: shape=(10, 10), dtype=int32, numpy=\n",
              "array([[ 962,    0,    1,    2,    0,    7,    5,    2,    1,    0],\n",
              "       [   0, 1109,    3,    2,    0,    1,    4,    2,   14,    0],\n",
              "       [   7,   11,  899,   18,    8,    6,   13,   11,   56,    3],\n",
              "       [   4,    0,   15,  909,    0,   40,    2,   10,   23,    7],\n",
              "       [   1,    1,    4,    2,  918,    0,   10,    4,   10,   32],\n",
              "       [   8,    2,    2,   18,    8,  804,   13,    3,   29,    5],\n",
              "       [  13,    3,    7,    1,    7,   17,  906,    2,    2,    0],\n",
              "       [   1,    5,   21,    7,    9,    1,    0,  945,    4,   35],\n",
              "       [   5,    6,    5,   18,    9,   31,    8,    9,  877,    6],\n",
              "       [  11,    7,    1,    8,   33,    8,    0,   20,   10,  911]],\n",
              "      dtype=int32)>"
            ]
          },
          "metadata": {
            "tags": []
          },
          "execution_count": 12
        }
      ]
    },
    {
      "cell_type": "markdown",
      "metadata": {
        "id": "-cFw938wjWrd"
      },
      "source": [
        "Using a ANN with 3 layers\n"
      ]
    },
    {
      "cell_type": "code",
      "metadata": {
        "colab": {
          "base_uri": "https://localhost:8080/"
        },
        "id": "bb31yv83_UTP",
        "outputId": "137e3c32-045f-428c-d15d-687e547d6013"
      },
      "source": [
        "model=keras.Sequential([\n",
        "    keras.layers.Dense(100, input_shape=(784,),activation='relu'),\n",
        "    keras.layers.Dense(40, activation='relu'),\n",
        "    keras.layers.Dense(10, activation='sigmoid')\n",
        "])\n",
        "model.compile(\n",
        "    optimizer='adam',\n",
        "    loss='sparse_categorical_crossentropy',\n",
        "    metrics=['accuracy']\n",
        "    )\n",
        "\n",
        "model.fit(x_train_flat,y_train,epochs=5)"
      ],
      "execution_count": 13,
      "outputs": [
        {
          "output_type": "stream",
          "text": [
            "Epoch 1/5\n",
            "1875/1875 [==============================] - 4s 2ms/step - loss: 0.2616 - accuracy: 0.9232\n",
            "Epoch 2/5\n",
            "1875/1875 [==============================] - 3s 2ms/step - loss: 0.1130 - accuracy: 0.9659\n",
            "Epoch 3/5\n",
            "1875/1875 [==============================] - 3s 2ms/step - loss: 0.0823 - accuracy: 0.9746\n",
            "Epoch 4/5\n",
            "1875/1875 [==============================] - 3s 2ms/step - loss: 0.0622 - accuracy: 0.9809\n",
            "Epoch 5/5\n",
            "1875/1875 [==============================] - 3s 2ms/step - loss: 0.0512 - accuracy: 0.9842\n"
          ],
          "name": "stdout"
        },
        {
          "output_type": "execute_result",
          "data": {
            "text/plain": [
              "<tensorflow.python.keras.callbacks.History at 0x7f9a95bcc410>"
            ]
          },
          "metadata": {
            "tags": []
          },
          "execution_count": 13
        }
      ]
    },
    {
      "cell_type": "code",
      "metadata": {
        "colab": {
          "base_uri": "https://localhost:8080/"
        },
        "id": "9carcg-LBNsO",
        "outputId": "cc77429b-b2bb-4def-8a6e-fcec5a9526c9"
      },
      "source": [
        "model.evaluate(x_test_flat,y_test)"
      ],
      "execution_count": 14,
      "outputs": [
        {
          "output_type": "stream",
          "text": [
            "313/313 [==============================] - 0s 1ms/step - loss: 0.0887 - accuracy: 0.9733\n"
          ],
          "name": "stdout"
        },
        {
          "output_type": "execute_result",
          "data": {
            "text/plain": [
              "[0.08871940523386002, 0.9732999801635742]"
            ]
          },
          "metadata": {
            "tags": []
          },
          "execution_count": 14
        }
      ]
    },
    {
      "cell_type": "markdown",
      "metadata": {
        "id": "lmOxr-pUjaEG"
      },
      "source": [
        "By Using a ANN with more layers we got our accuracy Improved, Now we will use CNN\n"
      ]
    },
    {
      "cell_type": "code",
      "metadata": {
        "colab": {
          "base_uri": "https://localhost:8080/"
        },
        "id": "s2hT5FCVnQNK",
        "outputId": "50e8a3d6-1b25-4495-b828-f904f594c14e"
      },
      "source": [
        "x_train.shape"
      ],
      "execution_count": 15,
      "outputs": [
        {
          "output_type": "execute_result",
          "data": {
            "text/plain": [
              "(60000, 28, 28)"
            ]
          },
          "metadata": {
            "tags": []
          },
          "execution_count": 15
        }
      ]
    },
    {
      "cell_type": "code",
      "metadata": {
        "colab": {
          "base_uri": "https://localhost:8080/"
        },
        "id": "X5usacN2n4t4",
        "outputId": "c37712ce-af33-4cf1-9c11-1bff19acfdca"
      },
      "source": [
        "x_train=x_train.reshape(x_train.shape[0],28,28,1)\n",
        "x_test=x_test.reshape(x_test.shape[0],28,28,1)\n",
        "x_train.shape"
      ],
      "execution_count": 16,
      "outputs": [
        {
          "output_type": "execute_result",
          "data": {
            "text/plain": [
              "(60000, 28, 28, 1)"
            ]
          },
          "metadata": {
            "tags": []
          },
          "execution_count": 16
        }
      ]
    },
    {
      "cell_type": "code",
      "metadata": {
        "id": "AGd5Bu57BWAr"
      },
      "source": [
        "CNN_model=keras.Sequential([\n",
        "             keras.layers.Conv2D(16, kernel_size=5, strides=1,  activation='relu', kernel_initializer='he_normal',input_shape=(28,28,1)), #C1\n",
        "             keras.layers.MaxPooling2D((2,2)), #S2\n",
        "             keras.layers.BatchNormalization(),\n",
        "             keras.layers.Conv2D(32, kernel_size=3, strides=1, kernel_initializer='he_normal', activation='relu'), #C3\n",
        "             keras.layers.MaxPooling2D((2,2)),#S4\n",
        "             keras.layers.BatchNormalization(),\n",
        "             keras.layers.Conv2D(64, kernel_size=3, strides=1,kernel_initializer='he_normal',  activation='relu'), #C5\n",
        "             keras.layers.Dropout(0.25),\n",
        "             keras.layers.Flatten(), #Flatten\n",
        "             keras.layers.Dense(256, activation='relu'),\n",
        "             keras.layers.Dense(128, activation='relu'),\n",
        "             keras.layers.Dense(84, activation='relu'), \n",
        "             keras.layers.Dense(10, activation='softmax') #Output layer\n",
        "])\n",
        "CNN_model.compile(\n",
        "    optimizer='adam',\n",
        "    loss='sparse_categorical_crossentropy',\n",
        "    metrics=['accuracy']\n",
        "    )"
      ],
      "execution_count": 17,
      "outputs": []
    },
    {
      "cell_type": "code",
      "metadata": {
        "colab": {
          "base_uri": "https://localhost:8080/"
        },
        "id": "eURfQA8LkJNJ",
        "outputId": "21998498-9b65-4c6e-b68a-ae39bc28ec74"
      },
      "source": [
        "CNN_model.fit(x_train,y_train,epochs=20)"
      ],
      "execution_count": 18,
      "outputs": [
        {
          "output_type": "stream",
          "text": [
            "Epoch 1/20\n",
            "1875/1875 [==============================] - 39s 20ms/step - loss: 0.1504 - accuracy: 0.9536\n",
            "Epoch 2/20\n",
            "1875/1875 [==============================] - 39s 21ms/step - loss: 0.0638 - accuracy: 0.9812\n",
            "Epoch 3/20\n",
            "1875/1875 [==============================] - 39s 21ms/step - loss: 0.0518 - accuracy: 0.9851\n",
            "Epoch 4/20\n",
            "1875/1875 [==============================] - 39s 21ms/step - loss: 0.0422 - accuracy: 0.9879\n",
            "Epoch 5/20\n",
            "1875/1875 [==============================] - 39s 21ms/step - loss: 0.0371 - accuracy: 0.9892\n",
            "Epoch 6/20\n",
            "1875/1875 [==============================] - 39s 21ms/step - loss: 0.0323 - accuracy: 0.9912\n",
            "Epoch 7/20\n",
            "1875/1875 [==============================] - 39s 21ms/step - loss: 0.0290 - accuracy: 0.9918\n",
            "Epoch 8/20\n",
            "1875/1875 [==============================] - 39s 21ms/step - loss: 0.0276 - accuracy: 0.9922\n",
            "Epoch 9/20\n",
            "1875/1875 [==============================] - 39s 21ms/step - loss: 0.0241 - accuracy: 0.9933\n",
            "Epoch 10/20\n",
            "1875/1875 [==============================] - 39s 21ms/step - loss: 0.0218 - accuracy: 0.9937\n",
            "Epoch 11/20\n",
            "1875/1875 [==============================] - 39s 21ms/step - loss: 0.0206 - accuracy: 0.9940\n",
            "Epoch 12/20\n",
            "1875/1875 [==============================] - 39s 21ms/step - loss: 0.0217 - accuracy: 0.9939\n",
            "Epoch 13/20\n",
            "1875/1875 [==============================] - 39s 21ms/step - loss: 0.0186 - accuracy: 0.9948\n",
            "Epoch 14/20\n",
            "1875/1875 [==============================] - 39s 21ms/step - loss: 0.0188 - accuracy: 0.9947\n",
            "Epoch 15/20\n",
            "1875/1875 [==============================] - 39s 21ms/step - loss: 0.0170 - accuracy: 0.9950\n",
            "Epoch 16/20\n",
            "1875/1875 [==============================] - 39s 21ms/step - loss: 0.0174 - accuracy: 0.9952\n",
            "Epoch 17/20\n",
            "1875/1875 [==============================] - 39s 21ms/step - loss: 0.0137 - accuracy: 0.9963\n",
            "Epoch 18/20\n",
            "1875/1875 [==============================] - 39s 21ms/step - loss: 0.0164 - accuracy: 0.9956\n",
            "Epoch 19/20\n",
            "1875/1875 [==============================] - 39s 21ms/step - loss: 0.0151 - accuracy: 0.9960\n",
            "Epoch 20/20\n",
            "1875/1875 [==============================] - 39s 21ms/step - loss: 0.0141 - accuracy: 0.9964\n"
          ],
          "name": "stdout"
        },
        {
          "output_type": "execute_result",
          "data": {
            "text/plain": [
              "<tensorflow.python.keras.callbacks.History at 0x7f9a94a4f350>"
            ]
          },
          "metadata": {
            "tags": []
          },
          "execution_count": 18
        }
      ]
    },
    {
      "cell_type": "code",
      "metadata": {
        "colab": {
          "base_uri": "https://localhost:8080/"
        },
        "id": "PyFcEwa3kt1P",
        "outputId": "4b56342d-d1b7-4ad8-e72c-9c58619f5db8"
      },
      "source": [
        "CNN_model.evaluate(x_test,y_test)"
      ],
      "execution_count": 19,
      "outputs": [
        {
          "output_type": "stream",
          "text": [
            "313/313 [==============================] - 2s 6ms/step - loss: 0.0394 - accuracy: 0.9920\n"
          ],
          "name": "stdout"
        },
        {
          "output_type": "execute_result",
          "data": {
            "text/plain": [
              "[0.03941882774233818, 0.9919999837875366]"
            ]
          },
          "metadata": {
            "tags": []
          },
          "execution_count": 19
        }
      ]
    }
  ]
}